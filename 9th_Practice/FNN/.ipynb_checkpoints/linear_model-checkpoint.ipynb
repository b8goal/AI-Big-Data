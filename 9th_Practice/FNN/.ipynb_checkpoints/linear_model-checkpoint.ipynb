{
 "cells": [
  {
   "cell_type": "markdown",
   "metadata": {},
   "source": [
    "# TensorFlow 기초\n",
    "\n",
    "## TensorFlow 알아보기\n",
    "\n",
    "###   Computational Graph"
   ]
  },
  {
   "cell_type": "code",
   "execution_count": null,
   "metadata": {},
   "outputs": [],
   "source": [
    "import tensorflow as tf\n",
    "import numpy as np\n",
    "%matplotlib inline\n",
    "import matplotlib.pyplot as plt\n",
    "\n",
    "# numpy addition\n",
    "a_np = np.array(10)\n",
    "b_np = np.array(32)\n",
    "out_np = a_np + b_np\n",
    "\n",
    "print(a_np)\n",
    "print(b_np)\n",
    "print(out_np)"
   ]
  },
  {
   "cell_type": "code",
   "execution_count": null,
   "metadata": {},
   "outputs": [],
   "source": [
    "# tensorflow addition\n",
    "a_tf = tf.constant(10)\n",
    "b_tf = tf.constant(32)\n",
    "out_tf = a_tf + b_tf\n",
    "\n",
    "print(a_tf)\n",
    "print(b_tf)\n",
    "print(out_tf)\n",
    "print(\"==========================================\")\n",
    "\n",
    "with tf.Session() as sess:\n",
    "    print(sess.run(a_tf))\n",
    "    print(sess.run(b_tf))\n",
    "    print(sess.run(out_tf))\n",
    "    print(\"==========================================\")\n",
    "    print(a_tf.eval())\n",
    "    print(b_tf.eval())\n",
    "    print(out_tf.eval())"
   ]
  },
  {
   "cell_type": "code",
   "execution_count": null,
   "metadata": {},
   "outputs": [],
   "source": [
    "# parameterize the graph to accept external input\n",
    "a_tf = tf.placeholder(tf.float32)\n",
    "b_tf = tf.placeholder(tf.float32)\n",
    "out_tf = a_tf + b_tf\n",
    "\n",
    "print(a_tf)\n",
    "print(b_tf)\n",
    "print(out_tf)\n",
    "print(\"==========================================\")\n",
    "\n",
    "with tf.Session() as sess:\n",
    "    print(sess.run(a_tf, {a_tf: 1.0}))\n",
    "    print(sess.run(b_tf, {b_tf: 2.0}))\n",
    "    print(sess.run(out_tf, {a_tf: 3.0, b_tf: 4.0}))\n",
    "    print(sess.run(out_tf, {a_tf: 90.0, b_tf: 10.0}))"
   ]
  },
  {
   "cell_type": "markdown",
   "metadata": {},
   "source": [
    "### Vector 연산"
   ]
  },
  {
   "cell_type": "code",
   "execution_count": null,
   "metadata": {},
   "outputs": [],
   "source": [
    "# numpy\n",
    "x = np.array([1., 1., 1., 1.])\n",
    "y = np.array([2., 2., 2., 2.])\n",
    "out = x + y\n",
    "print(\"Numpy: {}\".format(out))"
   ]
  },
  {
   "cell_type": "code",
   "execution_count": null,
   "metadata": {},
   "outputs": [],
   "source": [
    "# tensorflow1\n",
    "x = tf.constant([1., 1., 1., 1.])\n",
    "y = tf.constant([2., 2., 2., 2.])\n",
    "out = tf.add(x, y)\n",
    "\n",
    "with tf.Session() as sess:\n",
    "    print(out)\n",
    "    print(\"Tensorflow: {}\".format(sess.run(out)))"
   ]
  },
  {
   "cell_type": "code",
   "execution_count": null,
   "metadata": {},
   "outputs": [],
   "source": [
    "# tensorflow2\n",
    "x = tf.constant([1., 1., 1., 1.])\n",
    "y = tf.constant([2., 2., 2., 2.])\n",
    "out = x + y\n",
    "\n",
    "with tf.Session() as sess:\n",
    "    print(out)\n",
    "    print(\"Tensorflow: {}\".format(sess.run(out)))"
   ]
  },
  {
   "cell_type": "markdown",
   "metadata": {},
   "source": [
    "### Matrix 연산"
   ]
  },
  {
   "cell_type": "code",
   "execution_count": null,
   "metadata": {},
   "outputs": [],
   "source": [
    "# matrix addition\n",
    "x = tf.constant(1.0, shape=[2, 3])\n",
    "y = tf.constant(np.reshape(np.arange(1.0, 7.0, dtype=np.float32), (2, 3)))\n",
    "out = x + y\n",
    "\n",
    "with tf.Session() as sess:\n",
    "    print(x.eval())\n",
    "    print(\"+\")\n",
    "    print(y.eval())\n",
    "    print(\"=\")\n",
    "    print(sess.run(out))"
   ]
  },
  {
   "cell_type": "code",
   "execution_count": null,
   "metadata": {},
   "outputs": [],
   "source": [
    "# matrix elementwise multiplication\n",
    "x = tf.constant(2.0, shape=[2, 3])\n",
    "y = tf.constant(np.reshape(np.arange(1.0, 7.0, dtype=np.float32), (2, 3)))\n",
    "out = x * y\n",
    "\n",
    "with tf.Session() as sess:\n",
    "    print(x.eval())\n",
    "    print(y.eval())\n",
    "    print(sess.run(out))"
   ]
  },
  {
   "cell_type": "code",
   "execution_count": null,
   "metadata": {},
   "outputs": [],
   "source": [
    "# matrix multiplication \n",
    "input_feature = tf.constant(\n",
    "    np.reshape([1, 0, 0, 1], (1, 4)).astype(np.float32))\n",
    "weights = tf.constant(np.random.randn(4, 2).astype(np.float32))\n",
    "output = tf.matmul(input_feature, weights)\n",
    "\n",
    "with tf.Session() as sess:\n",
    "    print(\"input: \\n{}\".format(sess.run(input_feature)))\n",
    "    print(\"weights: \\n{}\".format(sess.run(weights)))\n",
    "    print(\"output: \\n{}\".format(sess.run(output)))"
   ]
  },
  {
   "cell_type": "markdown",
   "metadata": {},
   "source": [
    "### Useful operation"
   ]
  },
  {
   "cell_type": "code",
   "execution_count": null,
   "metadata": {},
   "outputs": [],
   "source": [
    "# reduce_mean, reduce_sum\n",
    "x = tf.constant(np.reshape(np.arange(1.0, 7.0, dtype=np.float32), (2, 3)))\n",
    "tf_mean = tf.reduce_mean(x)\n",
    "tf_sum = tf.reduce_sum(x)\n",
    "tf_mean_2 = tf.reduce_mean(x, axis=1)\n",
    "\n",
    "with tf.Session() as sess:\n",
    "    print(sess.run(x))\n",
    "    print(sess.run(tf_mean))\n",
    "    print(sess.run(tf_sum))\n",
    "    print(sess.run(tf_mean_2))"
   ]
  },
  {
   "cell_type": "code",
   "execution_count": null,
   "metadata": {},
   "outputs": [],
   "source": [
    "# argmax, argmin\n",
    "x = tf.constant(np.reshape(np.arange(1.0, 7.0, dtype=np.float32), (2, 3)))\n",
    "axis0 = tf.argmin(x, axis=0)\n",
    "axis1 = tf.argmax(x, axis=1)\n",
    "\n",
    "with tf.Session() as sess:\n",
    "    print(sess.run(x))\n",
    "    print(sess.run(axis0))\n",
    "    print(sess.run(axis1))"
   ]
  },
  {
   "cell_type": "code",
   "execution_count": null,
   "metadata": {},
   "outputs": [],
   "source": [
    "# equal\n",
    "x = tf.constant(np.reshape(np.arange(1.0, 7.0, dtype=np.float32), (2, 3)))\n",
    "y = tf.constant(np.reshape(np.arange(1.0, 7.0, dtype=np.float32), (2, 3)))\n",
    "y_ = tf.constant(2.0, shape=[2, 3])\n",
    "equal = tf.equal(x, y)\n",
    "equal_ = tf.equal(x, y_)\n",
    "\n",
    "with tf.Session() as sess:\n",
    "    print(sess.run(equal))\n",
    "    print(sess.run(equal_))"
   ]
  },
  {
   "cell_type": "code",
   "execution_count": null,
   "metadata": {},
   "outputs": [],
   "source": [
    "# cast\n",
    "x = tf.constant([True, True, False, False])\n",
    "x_cast = tf.cast(x, tf.float32)\n",
    "\n",
    "with tf.Session() as sess:\n",
    "    print(x)\n",
    "    print(sess.run(x))\n",
    "    print(x_cast)\n",
    "    print(sess.run(x_cast))"
   ]
  },
  {
   "cell_type": "markdown",
   "metadata": {},
   "source": [
    "### 변수 변환 시켜보기"
   ]
  },
  {
   "cell_type": "code",
   "execution_count": null,
   "metadata": {},
   "outputs": [],
   "source": [
    "# define a variable and a constant\n",
    "total = tf.Variable(tf.zeros([1, 2]))\n",
    "inputs = tf.constant([1.0, 5.0])\n",
    "\n",
    "# make op to update a variable\n",
    "update_total = tf.assign(total, tf.add(total, inputs))\n",
    "\n",
    "# make op to initialize declared variable\n",
    "init = tf.global_variables_initializer()\n",
    "\n",
    "with tf.Session() as sess:\n",
    "    # initialize variables\n",
    "    sess.run(init)\n",
    "    \n",
    "    # update variable 5 times\n",
    "    for _ in range(5):\n",
    "        sess.run(update_total)\n",
    "        print(\"total: {}\".format(sess.run(total)))"
   ]
  },
  {
   "cell_type": "markdown",
   "metadata": {},
   "source": [
    "## 기본 예제\n",
    "\n",
    "### Toy data 생성"
   ]
  },
  {
   "cell_type": "code",
   "execution_count": null,
   "metadata": {},
   "outputs": [],
   "source": [
    "num_examples = 500\n",
    "data = np.array([np.linspace(-2, 4, num_examples), np.linspace(-6, 6, num_examples)])\n",
    "plt.figure(figsize=(4, 4))\n",
    "plt.scatter(data[0], data[1])\n",
    "plt.show()"
   ]
  },
  {
   "cell_type": "markdown",
   "metadata": {},
   "source": [
    "### Noise 추가"
   ]
  },
  {
   "cell_type": "code",
   "execution_count": null,
   "metadata": {},
   "outputs": [],
   "source": [
    "data += np.random.randn(2, num_examples)\n",
    "plt.figure(figsize=(4, 4))\n",
    "plt.scatter(data[0], data[1])\n",
    "plt.show()"
   ]
  },
  {
   "cell_type": "markdown",
   "metadata": {},
   "source": [
    "### Hyper-parameter 세팅"
   ]
  },
  {
   "cell_type": "code",
   "execution_count": null,
   "metadata": {},
   "outputs": [],
   "source": [
    "training_step = 50\n",
    "learning_rate = 0.002"
   ]
  },
  {
   "cell_type": "markdown",
   "metadata": {},
   "source": [
    "### 모델 정의 및 학습"
   ]
  },
  {
   "cell_type": "code",
   "execution_count": null,
   "metadata": {},
   "outputs": [],
   "source": [
    "tf.reset_default_graph()\n",
    "x, y = data\n",
    "x_with_bias = np.array([(1., a) for a in x]).astype(np.float32)\n",
    "\n",
    "input = tf.constant(x_with_bias)\n",
    "target = tf.constant(np.transpose([y]).astype(np.float32))\n",
    "#weights = tf.Variable(tf.random_normal([2, 1], 0, 0.1))\n",
    "init = tf.truncated_normal([2,1], stddev=.01)\n",
    "weights = tf.get_variable('w', initializer=init)\n",
    "y_hat = tf.matmul(input, weights)\n",
    "y_error = tf.subtract(y_hat, target)\n",
    "loss = tf.reduce_mean(tf.nn.l2_loss(y_error))\n",
    "\n",
    "update_weights = tf.train.GradientDescentOptimizer(learning_rate).minimize(loss)\n",
    "\n",
    "# Make op to initialize declared variable\n",
    "init = tf.global_variables_initializer()\n",
    "\n",
    "with tf.Session() as sess:\n",
    "    # Initialize variables\n",
    "    sess.run(init)\n",
    "    \n",
    "    # Training\n",
    "    for step in range(training_step):\n",
    "        _, loss_ = sess.run([update_weights, loss])\n",
    "        print('iter: {}, loss: {}'.format(step, loss_))"
   ]
  },
  {
   "cell_type": "code",
   "execution_count": null,
   "metadata": {},
   "outputs": [],
   "source": [
    "from sklearn.linear_model import LinearRegression\n",
    "x, y = data\n",
    "x = x.reshape(-1, 1)\n",
    "y = y.reshape(-1, 1)\n",
    "model = LinearRegression()\n",
    "model.fit(x, y)\n",
    "model.score(x, y)\n",
    "plt.scatter(x, y)\n",
    "plt.scatter(x, model.predict(x))"
   ]
  },
  {
   "cell_type": "code",
   "execution_count": null,
   "metadata": {},
   "outputs": [],
   "source": [
    "# https://scikit-learn.org/stable/auto_examples/linear_model/plot_ols.html#sphx-glr-auto-examples-linear-model-plot-ols-py \n",
    "# Code source: Jaques Grobler\n",
    "# License: BSD 3 clause\n",
    "\n",
    "\n",
    "import matplotlib.pyplot as plt\n",
    "import numpy as np\n",
    "from sklearn import datasets, linear_model\n",
    "from sklearn.metrics import mean_squared_error, r2_score\n",
    "\n",
    "# Load the diabetes dataset\n",
    "diabetes = datasets.load_diabetes()\n",
    "\n",
    "\n",
    "# Use only one feature\n",
    "diabetes_X = diabetes.data[:, np.newaxis, 2]\n",
    "\n",
    "# Split the data into training/testing sets\n",
    "diabetes_X_train = diabetes_X[:-20]\n",
    "diabetes_X_test = diabetes_X[-20:]\n",
    "\n",
    "# Split the targets into training/testing sets\n",
    "diabetes_y_train = diabetes.target[:-20]\n",
    "diabetes_y_test = diabetes.target[-20:]\n",
    "\n",
    "# Create linear regression object\n",
    "regr = linear_model.LinearRegression()\n",
    "\n",
    "# Train the model using the training sets\n",
    "regr.fit(diabetes_X_train, diabetes_y_train)\n",
    "\n",
    "# Make predictions using the testing set\n",
    "diabetes_y_pred = regr.predict(diabetes_X_test)\n",
    "\n",
    "# The coefficients\n",
    "print('Coefficients: \\n', regr.coef_)\n",
    "# The mean squared error\n",
    "print(\"Mean squared error: %.2f\"\n",
    "      % mean_squared_error(diabetes_y_test, diabetes_y_pred))\n",
    "# Explained variance score: 1 is perfect prediction\n",
    "print('Variance score: %.2f' % r2_score(diabetes_y_test, diabetes_y_pred))\n",
    "\n",
    "# Plot outputs\n",
    "plt.scatter(diabetes_X_test, diabetes_y_test,  color='black')\n",
    "plt.plot(diabetes_X_test, diabetes_y_pred, color='blue', linewidth=3)\n",
    "\n",
    "plt.xticks(())\n",
    "plt.yticks(())\n",
    "\n",
    "plt.show()\n"
   ]
  },
  {
   "cell_type": "code",
   "execution_count": null,
   "metadata": {},
   "outputs": [],
   "source": [
    "# https://scikit-learn.org/stable/auto_examples/linear_model/plot_logistic.html#sphx-glr-auto-examples-linear-model-plot-logistic-py\n",
    "# Code source: Gael Varoquaux\n",
    "# License: BSD 3 clause\n",
    "\n",
    "import numpy as np\n",
    "import matplotlib.pyplot as plt\n",
    "\n",
    "from sklearn import linear_model\n",
    "\n",
    "# General a toy dataset:s it's just a straight line with some Gaussian noise:\n",
    "xmin, xmax = -5, 5\n",
    "n_samples = 100\n",
    "np.random.seed(0)\n",
    "X = np.random.normal(size=n_samples)\n",
    "y = (X > 0).astype(np.float)\n",
    "X[X > 0] *= 4\n",
    "X += .3 * np.random.normal(size=n_samples)\n",
    "\n",
    "X = X[:, np.newaxis]\n",
    "\n",
    "# Fit the classifier\n",
    "clf = linear_model.LogisticRegression(C=1e5, solver='lbfgs')\n",
    "clf.fit(X, y)\n",
    "\n",
    "# and plot the result\n",
    "plt.figure(1, figsize=(4, 3))\n",
    "plt.clf()\n",
    "plt.scatter(X.ravel(), y, color='black', zorder=20)\n",
    "X_test = np.linspace(-5, 10, 300)\n",
    "\n",
    "\n",
    "def model(x):\n",
    "    return 1 / (1 + np.exp(-x))\n",
    "\n",
    "\n",
    "loss = model(X_test * clf.coef_ + clf.intercept_).ravel()\n",
    "plt.plot(X_test, loss, color='red', linewidth=3)\n",
    "\n",
    "ols = linear_model.LinearRegression()\n",
    "ols.fit(X, y)\n",
    "plt.plot(X_test, ols.coef_ * X_test + ols.intercept_, linewidth=1)\n",
    "plt.axhline(.5, color='.5')\n",
    "\n",
    "plt.ylabel('y')\n",
    "plt.xlabel('X')\n",
    "plt.xticks(range(-5, 10))\n",
    "plt.yticks([0, 0.5, 1])\n",
    "plt.ylim(-.25, 1.25)\n",
    "plt.xlim(-4, 10)\n",
    "plt.legend(('Logistic Regression Model', 'Linear Regression Model'),\n",
    "           loc=\"lower right\", fontsize='small')\n",
    "plt.tight_layout()\n",
    "plt.show()"
   ]
  },
  {
   "cell_type": "markdown",
   "metadata": {},
   "source": [
    "### tf.get_variable()"
   ]
  },
  {
   "cell_type": "code",
   "execution_count": null,
   "metadata": {},
   "outputs": [],
   "source": [
    "tf.reset_default_graph()\n",
    "init = tf.truncated_normal([2,1], stddev=.01)\n",
    "w1 = tf.get_variable('w1', initializer=init)\n",
    "#w2 = tf.get_variable('w1', initializer=init)\n",
    "w2 = tf.get_variable('w2', initializer=init)\n",
    "\n",
    "with tf.variable_scope('fc1'):\n",
    "    init = tf.truncated_normal([2,1], stddev=.01)\n",
    "    w = tf.get_variable('w', initializer=init)\n",
    "    \n",
    "with tf.variable_scope('fc2'):\n",
    "    init = tf.truncated_normal([2,1], stddev=.01)\n",
    "    w = tf.get_variable('w', initializer=init)"
   ]
  },
  {
   "cell_type": "code",
   "execution_count": null,
   "metadata": {},
   "outputs": [],
   "source": [
    "tf.trainable_variables()"
   ]
  },
  {
   "cell_type": "code",
   "execution_count": null,
   "metadata": {},
   "outputs": [],
   "source": []
  }
 ],
 "metadata": {
  "kernelspec": {
   "display_name": "Python 3",
   "language": "python",
   "name": "python3"
  },
  "language_info": {
   "codemirror_mode": {
    "name": "ipython",
    "version": 3
   },
   "file_extension": ".py",
   "mimetype": "text/x-python",
   "name": "python",
   "nbconvert_exporter": "python",
   "pygments_lexer": "ipython3",
   "version": "3.7.1"
  }
 },
 "nbformat": 4,
 "nbformat_minor": 2
}
